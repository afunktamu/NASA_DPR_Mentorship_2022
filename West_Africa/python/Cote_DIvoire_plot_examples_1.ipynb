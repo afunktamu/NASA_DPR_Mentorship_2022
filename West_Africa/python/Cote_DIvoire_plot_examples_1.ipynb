{
 "cells": [
  {
   "cell_type": "markdown",
   "id": "22e9a092-4dce-4b7a-83e2-ac111faf4fe6",
   "metadata": {},
   "source": [
    "# Plot Cote D'Ivoire Monthly Rainfall Data"
   ]
  },
  {
   "cell_type": "code",
   "execution_count": null,
   "id": "8bf5cc72-6e45-418a-b41d-14550b8fd07d",
   "metadata": {},
   "outputs": [],
   "source": [
    "import glob\n",
    "import numpy as np\n",
    "import xarray as xr\n",
    "import hvplot.xarray\n",
    "import hvplot.pandas\n",
    "#import geoviews.feature as gf\n",
    "import panel as pn\n",
    "\n",
    "#set the backend and the renderer\n",
    "import holoviews as hv\n",
    "hv.extension('bokeh')\n",
    "br = hv.renderer('bokeh')"
   ]
  },
  {
   "cell_type": "code",
   "execution_count": null,
   "id": "ea5e8e46-3b8f-4b6a-9b3e-4686043a9cf5",
   "metadata": {},
   "outputs": [],
   "source": [
    "# Set the data directory \n",
    "nc_dir = '../data/rainfall/'"
   ]
  },
  {
   "cell_type": "markdown",
   "id": "c2c9d8c5-977d-4f16-aa5c-fb9bf527a1c7",
   "metadata": {},
   "source": [
    "## Multiple Months\n",
    "\n",
    "Load multiple netCDF-4 files using Xarray. Call compute() to load the data into memory. "
   ]
  },
  {
   "cell_type": "code",
   "execution_count": null,
   "id": "48e5a531-89cc-49a9-a144-12be58f1495f",
   "metadata": {},
   "outputs": [],
   "source": [
    "# Load the netCDF-4 file into an Xarray dataset\n",
    "#  and show the Dataset header\n",
    "dpr_all_ds = xr.open_mfdataset(nc_dir + '*.nc4').compute()\n",
    "dpr_all_ds"
   ]
  },
  {
   "cell_type": "code",
   "execution_count": null,
   "id": "5bade23a-6f6a-4e7a-a8b7-2e26efc7fa3c",
   "metadata": {},
   "outputs": [],
   "source": [
    "dpr_all_df = dpr_all_ds.to_dataframe().reset_index()\n",
    "dpr_all_df"
   ]
  },
  {
   "cell_type": "code",
   "execution_count": null,
   "id": "53738748-ae46-4ca8-b185-7ca048a43945",
   "metadata": {},
   "outputs": [],
   "source": [
    "dpr_all_df.drop(columns=['lat','lon','all_rainfall']).groupby(by=dpr_all_df.time.dt.month).mean().\\\n",
    "    rename(columns={'conv_non_sh_rainfall': 'Deep Conv.', 'conv_sh_rainfall': 'Shallow Conv.','sf_rainfall': 'Stratiform'}).\\\n",
    "    hvplot.bar(rot=90, title='West Africa Monthly Mean Rainfall by Rain Type, 2015-2021', frame_height=200, frame_width=800, fontscale=1.5, \n",
    "               xlabel='Month, Rain Type', ylabel='Rainfall (mm/day)').opts(toolbar='disable')"
   ]
  },
  {
   "cell_type": "code",
   "execution_count": null,
   "id": "da29445e-2d2c-4e11-9a57-b8b882702fa4",
   "metadata": {},
   "outputs": [],
   "source": [
    "dpr_all_df.drop(columns=['lat','lon','all_rainfall']).groupby(by=dpr_all_df.time.dt.year).mean().\\\n",
    "    rename(columns={'conv_non_sh_rainfall': 'Deep Conv.', 'conv_sh_rainfall': 'Shallow Conv.','sf_rainfall': 'Stratiform'}).\\\n",
    "    hvplot.bar(rot=80, title='West Africa Annual Mean Rainfall by Type', frame_height=200, frame_width=800, fontscale=1.5).opts(toolbar='disable')"
   ]
  },
  {
   "cell_type": "code",
   "execution_count": null,
   "id": "4225d711-81ae-4dd4-8e0a-cb90f3dd2781",
   "metadata": {},
   "outputs": [],
   "source": [
    "sf_violin_plot = (dpr_all_df[dpr_all_df['sf_rainfall'] >= 0.1]).sort_values(by='time').\\\n",
    "                     hvplot.violin(y='sf_rainfall', by='time.month', title='West Africa Stratiform Rainfall', ylim=(0,20), frame_width=1000, grid=True,\n",
    "                                  xlabel='Month', ylabel='Rainfall (mm/day)')\n",
    "sf_line_plot = (dpr_all_df[dpr_all_df['sf_rainfall'] >= 0.1]).sort_values(by='time').groupby(by=dpr_all_df.time.dt.month).median().\\\n",
    "                    hvplot.line(y='sf_rainfall', line_color='red')\n",
    "\n",
    "sf_plot = sf_violin_plot * sf_line_plot\n",
    "\n",
    "\n",
    "conv_deep_violin_plot = (dpr_all_df[dpr_all_df['conv_non_sh_rainfall'] >= 0.1]).sort_values(by='time').\\\n",
    "                             hvplot.violin(y='conv_non_sh_rainfall', by='time.month', title='West Africa Stratiform Rainfall', ylim=(0,20), frame_width=1000, grid=True,\n",
    "                                           xlabel='Month', ylabel='Rainfall (mm/day)')\n",
    "\n",
    "conv_deep_line_plot = (dpr_all_df[dpr_all_df['conv_non_sh_rainfall'] >= 0.1]).sort_values(by='time').groupby(by=dpr_all_df.time.dt.month).median().\\\n",
    "                            hvplot.line(y='conv_non_sh_rainfall', line_color='red')\n",
    "\n",
    "conv_deep_plot = conv_deep_violin_plot * conv_deep_line_plot\n",
    "\n",
    "(sf_plot + conv_deep_plot).cols(1)"
   ]
  },
  {
   "cell_type": "code",
   "execution_count": null,
   "id": "b70e9dba-67e3-4376-8e8d-f0ab167530a0",
   "metadata": {},
   "outputs": [],
   "source": []
  }
 ],
 "metadata": {
  "kernelspec": {
   "display_name": "rioxarray",
   "language": "python",
   "name": "rioxarray"
  },
  "language_info": {
   "codemirror_mode": {
    "name": "ipython",
    "version": 3
   },
   "file_extension": ".py",
   "mimetype": "text/x-python",
   "name": "python",
   "nbconvert_exporter": "python",
   "pygments_lexer": "ipython3",
   "version": "3.10.4"
  }
 },
 "nbformat": 4,
 "nbformat_minor": 5
}
