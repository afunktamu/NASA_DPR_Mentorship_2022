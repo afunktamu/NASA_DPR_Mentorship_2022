{
 "cells": [
  {
   "cell_type": "markdown",
   "id": "22e9a092-4dce-4b7a-83e2-ac111faf4fe6",
   "metadata": {},
   "source": [
    "# Plot Cote D'Ivoire Monthly Rainfall Data #2\n",
    "\n",
    "This will show several plotting examples with comments."
   ]
  },
  {
   "cell_type": "code",
   "execution_count": null,
   "id": "8bf5cc72-6e45-418a-b41d-14550b8fd07d",
   "metadata": {},
   "outputs": [],
   "source": [
    "import glob\n",
    "import numpy as np\n",
    "import xarray as xr\n",
    "import hvplot.xarray\n",
    "import hvplot.pandas\n",
    "#import geoviews.feature as gf\n",
    "import panel as pn\n",
    "import colorcet as cc\n",
    "\n",
    "#set the backend and the renderer\n",
    "import holoviews as hv\n",
    "from holoviews import dim, opts\n",
    "hv.extension('bokeh')\n",
    "br = hv.renderer('bokeh')"
   ]
  },
  {
   "cell_type": "code",
   "execution_count": null,
   "id": "ea5e8e46-3b8f-4b6a-9b3e-4686043a9cf5",
   "metadata": {},
   "outputs": [],
   "source": [
    "# Set the data directory \n",
    "nc_dir = '../data/rainfall/'"
   ]
  },
  {
   "cell_type": "markdown",
   "id": "c2c9d8c5-977d-4f16-aa5c-fb9bf527a1c7",
   "metadata": {},
   "source": [
    "## Load Data into Xarray Dataset\n",
    "\n",
    "Load multiple netCDF-4 files using Xarray. Call compute() to load the data into memory since xr.open_mfdataset() uses Dask to lazily load the files resulting in chunked data. Calling compute() to put all the data into memory.  "
   ]
  },
  {
   "cell_type": "code",
   "execution_count": null,
   "id": "48e5a531-89cc-49a9-a144-12be58f1495f",
   "metadata": {},
   "outputs": [],
   "source": [
    "# 1. Load the netCDF-4 file into an Xarray dataset\n",
    "# 2. Print the Dataset header\n",
    "dpr_all_ds = xr.open_mfdataset(nc_dir + '*.nc4').compute()\n",
    "dpr_all_ds"
   ]
  },
  {
   "cell_type": "code",
   "execution_count": null,
   "id": "5bade23a-6f6a-4e7a-a8b7-2e26efc7fa3c",
   "metadata": {
    "tags": []
   },
   "outputs": [],
   "source": [
    "# # 1. Convert the Xarray Dataset (gridded data) to a Pandas Dataframe (tabular data)\n",
    "# #    reset_index() causes the Dataframe's first column to be numbers instead of lon/lat/time\n",
    "# # 2. Print the Dataframe header\n",
    "# dpr_all_df = dpr_all_ds.to_dataframe().reset_index()\n",
    "# dpr_all_df"
   ]
  },
  {
   "cell_type": "markdown",
   "id": "b076002e-1027-4855-9963-178ceedc9b57",
   "metadata": {},
   "source": [
    "## Monthly Mean Rainfall Map"
   ]
  },
  {
   "cell_type": "code",
   "execution_count": null,
   "id": "53738748-ae46-4ca8-b185-7ca048a43945",
   "metadata": {},
   "outputs": [],
   "source": [
    "# Monthly Mean Rainfall\n",
    "\n",
    "sf_monthly_mean_rainfall_plot = \\\n",
    "dpr_all_ds.sf_rainfall.groupby('time.month').mean().\\\n",
    "    hvplot.quadmesh(x='lon', y='lat',                                    # Call hvplot's QuadMesh mapping function and set the x and y coordinate variables\n",
    "                    rasterize=True,                                      # Make it plot faster\n",
    "                    cmap='rainbow', clim=(0,20),                         # Set the colormap and it's bounds\n",
    "                    coastline='50m',                                     # Plot a 50 meter resolution coastline\n",
    "                    frame_width=300,                                     # Plot's width is 300 pixels\n",
    "                    title='Stratiform Rainfall',\n",
    "                    ).\\\n",
    "                opts(opts.Feature(line_width=2.0))                       # Additional options - increase the coastline's line width\n",
    "\n",
    "# Convective Non-shallow Plot\n",
    "conv_non_sh_monthly_mean_rainfall_plot = \\\n",
    "dpr_all_ds.conv_non_sh_rainfall.groupby('time.month').mean().\\\n",
    "    hvplot.quadmesh(x='lon', y='lat', \n",
    "                    rasterize=True, \n",
    "                    cmap='rainbow', clim=(0,20),\n",
    "                    coastline='50m', \n",
    "                    frame_width=300,\n",
    "                    title='Convective Non-shallow Rainfall').\\\n",
    "                opts(opts.Feature(line_width=2.0))\n",
    "\n",
    "# Convective Shallow Plot\n",
    "conv_sh_monthly_mean_rainfall_plot = \\\n",
    "dpr_all_ds.conv_sh_rainfall.groupby('time.month').mean().\\\n",
    "    hvplot.quadmesh(x='lon', y='lat', \n",
    "                    rasterize=True, \n",
    "                    cmap='rainbow', clim=(0,3),\n",
    "                    coastline='50m', \n",
    "                    frame_width=300,\n",
    "                    title='Convective Shallow Rainfall').\\\n",
    "                opts(opts.Feature(line_width=2.0))\n",
    "\n",
    "# Set month slider to appear at bottom of the plot\n",
    "hv.output(widget_location='bottom')\n",
    "\n",
    "# Plot all 3 in a single row\n",
    "sf_monthly_mean_rainfall_plot + conv_non_sh_monthly_mean_rainfall_plot + conv_sh_monthly_mean_rainfall_plot"
   ]
  },
  {
   "cell_type": "markdown",
   "id": "13120c23-a917-4092-88a0-32d19bc42681",
   "metadata": {},
   "source": [
    "## Monthly Rainfall Anomaly from Annual Climatological Mean\n",
    "\n",
    "https://xarray.pydata.org/en/v2022.03.0/examples/weather-data.html\n",
    "\n",
    "https://colorcet.holoviz.org/user_guide/index.html"
   ]
  },
  {
   "cell_type": "code",
   "execution_count": null,
   "id": "1dc0151d-bfff-4d7d-8b4e-b1d10fc14100",
   "metadata": {},
   "outputs": [],
   "source": [
    "# Create Climatological Mean Rainfall \n",
    "climo_mean_rainfall_da = dpr_all_ds.all_rainfall.mean('time')\n",
    "climo_mean_rainfall_da\n",
    "\n",
    "# Create Monthly Mean Rainfall\n",
    "monthly_mean_rainfall_da = dpr_all_ds.all_rainfall.groupby('time.month').mean()\n",
    "monthly_mean_rainfall_da\n",
    "\n",
    "# Fine the monthly difference from climatological mean\n",
    "monthly_mean_rainfall_anom_da = monthly_mean_rainfall_da - climo_mean_rainfall_da\n",
    "\n",
    "# Select colormap, we'll reverse it so green is positive anomaly\n",
    "cmap = cc.CET_D3[::-1]\n",
    "\n",
    "# Plot monthly anomaly\n",
    "monthly_mean_rainfall_anom_da.hvplot.quadmesh(x='lon', y='lat', \n",
    "                                              cmap=cmap, clim=(-20,20), clabel='mm/day',\n",
    "                                              coastline='50m',\n",
    "                                              xlabel='Longitude', ylabel='Latitude',\n",
    "                                              frame_width=500,\n",
    "                                              title='Monthly Rainfall Anomaly').\\\n",
    "                                            opts(opts.Feature(line_width=2.0))"
   ]
  },
  {
   "cell_type": "code",
   "execution_count": null,
   "id": "b70e9dba-67e3-4376-8e8d-f0ab167530a0",
   "metadata": {},
   "outputs": [],
   "source": []
  }
 ],
 "metadata": {
  "kernelspec": {
   "display_name": "rioxarray",
   "language": "python",
   "name": "rioxarray"
  },
  "language_info": {
   "codemirror_mode": {
    "name": "ipython",
    "version": 3
   },
   "file_extension": ".py",
   "mimetype": "text/x-python",
   "name": "python",
   "nbconvert_exporter": "python",
   "pygments_lexer": "ipython3",
   "version": "3.10.4"
  }
 },
 "nbformat": 4,
 "nbformat_minor": 5
}
