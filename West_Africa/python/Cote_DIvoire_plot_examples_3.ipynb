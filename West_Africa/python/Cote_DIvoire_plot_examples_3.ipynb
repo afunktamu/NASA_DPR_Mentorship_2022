{
 "cells": [
  {
   "cell_type": "markdown",
   "id": "22e9a092-4dce-4b7a-83e2-ac111faf4fe6",
   "metadata": {},
   "source": [
    "# Plot Cote d'Ivoire Monthly Rainfall Data #3\n",
    "\n",
    "Maps with a mask for Cote d'Ivoire"
   ]
  },
  {
   "cell_type": "code",
   "execution_count": null,
   "id": "8bf5cc72-6e45-418a-b41d-14550b8fd07d",
   "metadata": {},
   "outputs": [],
   "source": [
    "import glob\n",
    "import numpy as np\n",
    "import xarray as xr\n",
    "import hvplot.xarray\n",
    "import hvplot.pandas\n",
    "#import geoviews.feature as gf\n",
    "import panel as pn\n",
    "import colorcet as cc\n",
    "\n",
    "#set the backend and the renderer\n",
    "import holoviews as hv\n",
    "from holoviews import dim, opts\n",
    "hv.extension('bokeh')\n",
    "br = hv.renderer('bokeh')"
   ]
  },
  {
   "cell_type": "code",
   "execution_count": null,
   "id": "ea5e8e46-3b8f-4b6a-9b3e-4686043a9cf5",
   "metadata": {},
   "outputs": [],
   "source": [
    "# Set the data directory \n",
    "nc_dir = '../data/rainfall/'"
   ]
  },
  {
   "cell_type": "markdown",
   "id": "c2c9d8c5-977d-4f16-aa5c-fb9bf527a1c7",
   "metadata": {},
   "source": [
    "## Load Data into Xarray Dataset\n",
    "\n",
    "Load multiple netCDF-4 files using Xarray. Call compute() to load the data into memory since xr.open_mfdataset() uses Dask to lazily load the files resulting in chunked data. Calling compute() to put all the data into memory.  "
   ]
  },
  {
   "cell_type": "code",
   "execution_count": null,
   "id": "48e5a531-89cc-49a9-a144-12be58f1495f",
   "metadata": {},
   "outputs": [],
   "source": [
    "# 1. Load the netCDF-4 file into an Xarray dataset\n",
    "# 2. Print the Dataset header\n",
    "dpr_all_ds = xr.open_mfdataset(nc_dir + '*.nc4').compute()\n",
    "dpr_all_ds"
   ]
  },
  {
   "cell_type": "markdown",
   "id": "172688bb-0e2b-42f7-b20c-9f695a2a58ab",
   "metadata": {},
   "source": [
    "## Mask Dataset with Shapefile\n",
    "\n",
    "https://gis.stackexchange.com/questions/354782/masking-netcdf-time-series-data-from-shapefile-using-python/354798#354798"
   ]
  },
  {
   "cell_type": "code",
   "execution_count": null,
   "id": "7c58401a-6281-4087-8492-5e52defe60b2",
   "metadata": {},
   "outputs": [],
   "source": [
    "import rioxarray\n",
    "import geopandas\n",
    "from shapely.geometry import mapping"
   ]
  },
  {
   "cell_type": "code",
   "execution_count": null,
   "id": "c1b08a3b-1062-47ed-87b5-e62f49636acc",
   "metadata": {},
   "outputs": [],
   "source": [
    "dpr_all_ds.rio.set_spatial_dims(x_dim=\"lon\", y_dim=\"lat\", inplace=True)\n",
    "dpr_all_ds.rio.write_crs(\"WGS 84\", inplace=True)\n",
    "shapefile_path = '../data/shapefiles/civ_admbnda_adm0_cntig_20180706/civ_admbnda_adm0_cntig_20180706.shp'\n",
    "Cote_DIvoire_Shape = geopandas.read_file(shapefile_path, crs=\"WGS 84\")\n",
    "Cote_DIvoire_Shape"
   ]
  },
  {
   "cell_type": "code",
   "execution_count": null,
   "id": "d8cf6df5-59c3-4ba1-89ef-0280a89dd0f9",
   "metadata": {},
   "outputs": [],
   "source": [
    "dpr_all_clipped_ds = dpr_all_ds.rio.clip(Cote_DIvoire_Shape.geometry.apply(mapping), Cote_DIvoire_Shape.crs, drop=False)\n",
    "dpr_all_clipped_ds"
   ]
  },
  {
   "cell_type": "markdown",
   "id": "849875c2-b38a-4f12-ac03-bf72341dc7a7",
   "metadata": {},
   "source": [
    "## Annual Mean Rainfall Map"
   ]
  },
  {
   "cell_type": "code",
   "execution_count": null,
   "id": "1462b10c-e600-42b6-8a21-715dfc0f41b3",
   "metadata": {},
   "outputs": [],
   "source": [
    "monthly_mean_rainfall_plot = \\\n",
    "dpr_all_clipped_ds.all_rainfall.mean(dim='time').\\\n",
    "    hvplot.quadmesh(x='lon', y='lat',                                    # Call hvplot's QuadMesh mapping function and set the x and y coordinate variables\n",
    "                    xlim=(-9.0,-2.0), ylim=(4.0, 11.0),                  # Set the limits of the x and y dimensions \n",
    "                    rasterize=True,                                      # Make it plot faster\n",
    "                    cmap='rainbow', clim=(0,8), clabel='mm/day',         # Set the colormap and it's bounds\n",
    "                    frame_width=500, frame_height=400,                  # Plot's width is 300 pixels\n",
    "                    title='Annual Rainfall Mean',\n",
    "                    xlabel='Longitude', ylabel='Latitude',\n",
    "                    fontscale=1.5,\n",
    "                    )\n",
    "\n",
    "monthly_mean_rainfall_plot"
   ]
  },
  {
   "cell_type": "markdown",
   "id": "b076002e-1027-4855-9963-178ceedc9b57",
   "metadata": {},
   "source": [
    "## Monthly Mean Rainfall Map"
   ]
  },
  {
   "cell_type": "code",
   "execution_count": null,
   "id": "53738748-ae46-4ca8-b185-7ca048a43945",
   "metadata": {},
   "outputs": [],
   "source": [
    "# Monthly Mean Rainfall\n",
    "\n",
    "sf_monthly_mean_rainfall_plot = \\\n",
    "dpr_all_clipped_ds.sf_rainfall.groupby('time.month').mean().\\\n",
    "    hvplot.quadmesh(x='lon', y='lat',                                    # Call hvplot's QuadMesh mapping function and set the x and y coordinate variables\n",
    "                    xlim=(-9.0,-2.0), ylim=(4.0, 11.0),                  # Set the limits of the x and y dimensions \n",
    "                    rasterize=True,                                      # Make it plot faster\n",
    "                    cmap='rainbow', clim=(0,20),                         # Set the colormap and it's bounds\n",
    "                    frame_width=300, frame_height=250,                   # Plot's width is 300 pixels\n",
    "                    title='Stratiform Rainfall',\n",
    "                    )\n",
    "\n",
    "# Convective Non-shallow Plot\n",
    "conv_non_sh_monthly_mean_rainfall_plot = \\\n",
    "dpr_all_clipped_ds.conv_non_sh_rainfall.groupby('time.month').mean().\\\n",
    "    hvplot.quadmesh(x='lon', y='lat',\n",
    "                    xlim=(-9.0,-2.0), ylim=(4.0, 11.0),\n",
    "                    rasterize=True, \n",
    "                    cmap='rainbow', clim=(0,20),\n",
    "                    frame_width=300, frame_height=250,\n",
    "                    title='Convective Non-shallow Rainfall')\n",
    "\n",
    "# Convective Shallow Plot\n",
    "conv_sh_monthly_mean_rainfall_plot = \\\n",
    "dpr_all_clipped_ds.conv_sh_rainfall.groupby('time.month').mean().\\\n",
    "    hvplot.quadmesh(x='lon', y='lat',\n",
    "                    xlim=(-9.0,-2.0), ylim=(4.0, 11.0),\n",
    "                    rasterize=True, \n",
    "                    cmap='rainbow', clim=(0,3),\n",
    "                    frame_width=300, frame_height=250,\n",
    "                    title='Convective Shallow Rainfall')\n",
    "\n",
    "# Set month slider to appear at bottom of the plot\n",
    "hv.output(widget_location='bottom')\n",
    "\n",
    "# Plot all 3 in a single row\n",
    "sf_monthly_mean_rainfall_plot + conv_non_sh_monthly_mean_rainfall_plot + conv_sh_monthly_mean_rainfall_plot"
   ]
  },
  {
   "cell_type": "markdown",
   "id": "13120c23-a917-4092-88a0-32d19bc42681",
   "metadata": {},
   "source": [
    "## Monthly Rainfall Anomaly from Annual Climatological Mean\n",
    "\n",
    "https://xarray.pydata.org/en/v2022.03.0/examples/weather-data.html\n",
    "\n",
    "https://colorcet.holoviz.org/user_guide/index.html"
   ]
  },
  {
   "cell_type": "code",
   "execution_count": null,
   "id": "1dc0151d-bfff-4d7d-8b4e-b1d10fc14100",
   "metadata": {},
   "outputs": [],
   "source": [
    "# Create Climatological Mean Rainfall \n",
    "climo_mean_rainfall_da = dpr_all_clipped_ds.all_rainfall.mean('time')\n",
    "climo_mean_rainfall_da\n",
    "\n",
    "# Create Monthly Mean Rainfall\n",
    "monthly_mean_rainfall_da = dpr_all_clipped_ds.all_rainfall.groupby('time.month').mean()\n",
    "monthly_mean_rainfall_da\n",
    "\n",
    "# Fine the monthly difference from climatological mean\n",
    "monthly_mean_rainfall_anom_da = monthly_mean_rainfall_da - climo_mean_rainfall_da\n",
    "\n",
    "# Select colormap, we'll reverse it so green is positive anomaly\n",
    "cmap = cc.CET_D3[::-1]\n",
    "\n",
    "# Plot monthly anomaly\n",
    "monthly_mean_rainfall_anom_da.hvplot.quadmesh(x='lon', y='lat', \n",
    "                                              xlim=(-9.0,-2.0), ylim=(4.0, 11.0),\n",
    "                                              cmap=cmap, clim=(-15,15), clabel='mm/day',\n",
    "                                              xlabel='Longitude', ylabel='Latitude',\n",
    "                                              frame_width=500, frame_height=400,\n",
    "                                              title='Monthly Rainfall Anomaly', \n",
    "                                              fontscale=1.5)"
   ]
  },
  {
   "cell_type": "code",
   "execution_count": null,
   "id": "b70e9dba-67e3-4376-8e8d-f0ab167530a0",
   "metadata": {},
   "outputs": [],
   "source": []
  }
 ],
 "metadata": {
  "kernelspec": {
   "display_name": "pyviz_py310",
   "language": "python",
   "name": "pyviz_py310"
  },
  "language_info": {
   "codemirror_mode": {
    "name": "ipython",
    "version": 3
   },
   "file_extension": ".py",
   "mimetype": "text/x-python",
   "name": "python",
   "nbconvert_exporter": "python",
   "pygments_lexer": "ipython3",
   "version": "3.10.5"
  }
 },
 "nbformat": 4,
 "nbformat_minor": 5
}
