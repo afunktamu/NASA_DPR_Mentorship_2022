{
 "cells": [
  {
   "cell_type": "markdown",
   "id": "22e9a092-4dce-4b7a-83e2-ac111faf4fe6",
   "metadata": {},
   "source": [
    "# Plot Amazon Monthly Data"
   ]
  },
  {
   "cell_type": "code",
   "execution_count": null,
   "id": "8bf5cc72-6e45-418a-b41d-14550b8fd07d",
   "metadata": {},
   "outputs": [],
   "source": [
    "import glob\n",
    "import numpy as np\n",
    "import pandas as pd\n",
    "import xarray as xr\n",
    "import hvplot.xarray\n",
    "import geoviews.feature as gf\n",
    "import colorcet as cc\n",
    "import panel as pn\n",
    "\n",
    "#set the backend and the renderer\n",
    "import holoviews as hv\n",
    "hv.extension('bokeh')\n",
    "br = hv.renderer('bokeh')"
   ]
  },
  {
   "cell_type": "markdown",
   "id": "bae538ad-1fb8-4ac6-8fe2-62b144917919",
   "metadata": {},
   "source": [
    "## One month"
   ]
  },
  {
   "cell_type": "code",
   "execution_count": null,
   "id": "b383c6d7-9cde-48cc-8b9a-447acb978b1a",
   "metadata": {},
   "outputs": [],
   "source": [
    "# Select a month\n",
    "date = '201501'"
   ]
  },
  {
   "cell_type": "code",
   "execution_count": null,
   "id": "89613d09-25de-488a-9cab-405270b5babb",
   "metadata": {},
   "outputs": [],
   "source": [
    "# Construct a path string to the file\n",
    "# Modify nc_dir if necessary\n",
    "nc_dir = './data/Amazon_monrthly_rainfall/'\n",
    "nc_file = 'DPR_Amazon_rainfall_' + date + '.nc4'\n",
    "\n",
    "nc_path = nc_dir + nc_file"
   ]
  },
  {
   "cell_type": "code",
   "execution_count": null,
   "id": "bcfa8667-e60b-4dc6-ab89-bd7549122000",
   "metadata": {},
   "outputs": [],
   "source": [
    "# Load the netCDF-4 file into an Xarray dataset\n",
    "#  and show the Dataset header\n",
    "dpr_ds = xr.open_dataset(nc_path)\n",
    "dpr_ds"
   ]
  },
  {
   "cell_type": "code",
   "execution_count": null,
   "id": "de19e49e-e274-4736-9ebd-a44a9e19173a",
   "metadata": {},
   "outputs": [],
   "source": [
    "# Plot the rainfall variables\n",
    "sf_rainfall_plot = dpr_ds.sf_rainfall.where(dpr_ds.sf_rainfall > 0.0).\\\n",
    "                            hvplot.quadmesh(x='lon', y='lat', cmap='rainbow', rasterize=True, geo=True, title='Stratiform Rainfall', clim=(0,2), frame_width=300) * \\\n",
    "                    gf.coastline.options(scale='50m', line_width=1.5) * gf.borders.options(line_width=1.5) * gf.rivers.options(line_color='mediumblue', line_width=1.5)\n",
    "\n",
    "conv_non_sh_rainfall_plot = dpr_ds.conv_non_sh_rainfall.where(dpr_ds.conv_non_sh_rainfall > 0.0).\\\n",
    "                            hvplot.quadmesh(x='lon', y='lat', cmap='rainbow', rasterize=True, geo=True, title='Non-shallow Convective Rainfall', clim=(0,2), frame_width=300) * \\\n",
    "                    gf.coastline.options(scale='50m', line_width=1.5) * gf.borders.options(line_width=1.5) * gf.rivers.options(line_color='mediumblue', line_width=1.5)\n",
    "\n",
    "conv_sh_rainfall_plot = dpr_ds.conv_sh_rainfall.where(dpr_ds.conv_sh_rainfall > 0.0).\\\n",
    "                            hvplot.quadmesh(x='lon', y='lat', cmap='rainbow', rasterize=True, geo=True, title='Shallow Convective Rainfall', clim=(0,2), frame_width=300) * \\\n",
    "                    gf.coastline.options(scale='50m', line_width=1.5) * gf.borders.options(line_width=1.5) * gf.rivers.options(line_color='mediumblue', line_width=1.5)\n",
    "\n",
    "all_rainfall_plot = dpr_ds.all_rainfall.where(dpr_ds.all_rainfall > 0.0).\\\n",
    "                            hvplot.quadmesh(x='lon', y='lat', cmap='rainbow', rasterize=True, geo=True, title='All Rainfall', clim=(0,2), frame_width=300) * \\\n",
    "                    gf.coastline.options(scale='50m', line_width=1.5) * gf.borders.options(line_width=1.5) * gf.rivers.options(line_color='mediumblue', line_width=1.5)\n",
    "\n",
    "pn.Column(pn.Row(sf_rainfall_plot, conv_non_sh_rainfall_plot), pn.Row(conv_sh_rainfall_plot, all_rainfall_plot))"
   ]
  },
  {
   "cell_type": "markdown",
   "id": "c2c9d8c5-977d-4f16-aa5c-fb9bf527a1c7",
   "metadata": {},
   "source": [
    "## Multiple Months\n",
    "\n",
    "Load multiple netCDF-4 files using Xarray. Call compute() to load the data into memory. "
   ]
  },
  {
   "cell_type": "code",
   "execution_count": null,
   "id": "48e5a531-89cc-49a9-a144-12be58f1495f",
   "metadata": {},
   "outputs": [],
   "source": [
    "# Load the netCDF-4 file into an Xarray dataset\n",
    "#  and show the Dataset header\n",
    "dpr_all_ds = xr.open_mfdataset(nc_dir + '*.nc4').compute()\n",
    "dpr_all_ds"
   ]
  },
  {
   "cell_type": "code",
   "execution_count": null,
   "id": "2092808f-49c3-476c-a9ea-a18d14b02bcd",
   "metadata": {},
   "outputs": [],
   "source": [
    "# See if you can sum the rainfall variable across the 'time' dimension and plot the rainfall maps."
   ]
  },
  {
   "cell_type": "code",
   "execution_count": null,
   "id": "da29445e-2d2c-4e11-9a57-b8b882702fa4",
   "metadata": {},
   "outputs": [],
   "source": []
  }
 ],
 "metadata": {
  "kernelspec": {
   "display_name": "pyviz_py310",
   "language": "python",
   "name": "pyviz_py310"
  },
  "language_info": {
   "codemirror_mode": {
    "name": "ipython",
    "version": 3
   },
   "file_extension": ".py",
   "mimetype": "text/x-python",
   "name": "python",
   "nbconvert_exporter": "python",
   "pygments_lexer": "ipython3",
   "version": "3.10.4"
  }
 },
 "nbformat": 4,
 "nbformat_minor": 5
}
